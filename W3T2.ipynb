{
 "cells": [
  {
   "cell_type": "code",
   "execution_count": null,
   "metadata": {},
   "outputs": [],
   "source": [
    "import numpy as np\n",
    "from sklearn import datasets\n",
    "from sklearn.feature_extraction.text import TfidfVectorizer\n",
    "from sklearn.svm import SVC\n",
    "#from sklearn.grid_search import GridSearchCV\n",
    "from sklearn.model_selection import KFold, GridSearchCV\n",
    "import heapq"
   ]
  },
  {
   "cell_type": "code",
   "execution_count": null,
   "metadata": {},
   "outputs": [],
   "source": [
    "newgroups = datasets.fetch_20newsgroups(subset='all', categories=['alt.atheism','sci.space'])\n",
    "y = newgroups.target\n",
    "X = newgroups.data"
   ]
  },
  {
   "cell_type": "code",
   "execution_count": null,
   "metadata": {},
   "outputs": [],
   "source": [
    "vectorize = TfidfVectorizer()\n",
    "X_ = vectorize.fit_transform(X,y)"
   ]
  },
  {
   "cell_type": "code",
   "execution_count": null,
   "metadata": {},
   "outputs": [],
   "source": [
    "grid = {'C': np.power(10.0, np.arange(-5,6))}\n",
    "cv = KFold(n_splits=5, shuffle=True, random_state=241)\n",
    "clf = SVC(kernel='linear', random_state=241)\n",
    "gs = GridSearchCV(estimator=clf, param_grid=grid, scoring='accuracy', cv= cv,return_train_score=True)\n",
    "gs.fit(X_,y)"
   ]
  },
  {
   "cell_type": "code",
   "execution_count": null,
   "metadata": {},
   "outputs": [],
   "source": [
    "C = gs.best_params_['C']"
   ]
  },
  {
   "cell_type": "code",
   "execution_count": null,
   "metadata": {},
   "outputs": [],
   "source": [
    "#C_opt = max(gs.cv_results_, key=lambda x:x.mean_validation_score)\n",
    "#C = C_opt.parameters['C']"
   ]
  },
  {
   "cell_type": "code",
   "execution_count": null,
   "metadata": {},
   "outputs": [],
   "source": [
    "clf = SVC(kernel='linear', random_state=241, C=C)\n",
    "clf.fit(X_, y)"
   ]
  },
  {
   "cell_type": "code",
   "execution_count": null,
   "metadata": {},
   "outputs": [],
   "source": [
    "words = vectorize.get_feature_names()\n",
    "coefs = clf.coef_.toarray()[0]\n",
    "\n",
    "abs_coefs = list(map(lambda x:abs(x), coefs))\n",
    "ten = heapq.nlargest(10, abs_coefs)\n",
    "ten_words = list()\n",
    "\n",
    "for coef in ten:\n",
    "    for i in range(0,len(abs_coefs)):\n",
    "        if abs_coefs[i] == coef:\n",
    "            ten_words.append(words[i])\n",
    "\n",
    "\n",
    "ten_words.sort()\n",
    "print(ten_words)"
   ]
  }
 ],
 "metadata": {
  "kernelspec": {
   "display_name": "Python 3",
   "language": "python",
   "name": "python3"
  },
  "language_info": {
   "codemirror_mode": {
    "name": "ipython",
    "version": 3
   },
   "file_extension": ".py",
   "mimetype": "text/x-python",
   "name": "python",
   "nbconvert_exporter": "python",
   "pygments_lexer": "ipython3",
   "version": "3.7.1"
  },
  "widgets": {
   "application/vnd.jupyter.widget-state+json": {
    "state": {},
    "version_major": 2,
    "version_minor": 0
   }
  }
 },
 "nbformat": 4,
 "nbformat_minor": 2
}
