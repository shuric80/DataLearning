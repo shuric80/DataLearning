{
 "cells": [
  {
   "cell_type": "code",
   "execution_count": 1,
   "metadata": {},
   "outputs": [],
   "source": [
    "import numpy as np\n",
    "import pandas as pd\n",
    "from sklearn.metrics import roc_auc_score\n",
    "from scipy.spatial import distance"
   ]
  },
  {
   "cell_type": "code",
   "execution_count": 2,
   "metadata": {},
   "outputs": [],
   "source": [
    "data = pd.read_csv('data-logistic.csv', header=None)\n",
    "#data.head()\n",
    "y = data[0].values\n",
    "X = data.iloc[:,1:].values\n",
    "a,b  = X.shape"
   ]
  },
  {
   "cell_type": "code",
   "execution_count": 3,
   "metadata": {},
   "outputs": [],
   "source": [
    "def cost(X, y, w, C):\n",
    "    sum = 0\n",
    "    n = X.shape[0]\n",
    "    m = X.shape[1]\n",
    "\n",
    "    for i in range(n):\n",
    "        sum += np.log(1 + np.exp(-y[i] * np.dot(X[i], w)))\n",
    "\n",
    "    reg = C * (w ** 2).sum()/m\n",
    "    cost = sum /np.double(n) + reg\n",
    "    return cost\n"
   ]
  },
  {
   "cell_type": "code",
   "execution_count": 4,
   "metadata": {},
   "outputs": [],
   "source": [
    "\n",
    "def sigmoid(X,w):\n",
    "    return 1/ (1 + np.exp(-np.dot(X,w)))"
   ]
  },
  {
   "cell_type": "code",
   "execution_count": 5,
   "metadata": {},
   "outputs": [],
   "source": [
    "def train(X, y, k, C):\n",
    "    n = X.shape[0]\n",
    "    m = X.shape[1]\n",
    "    w = np.zeros(m)\n",
    "    th = 1e-5\n",
    "\n",
    "    for it in range(10000):\n",
    "        new_w = np.zeros(m)\n",
    "        for j in range(m):\n",
    "            sum = 0\n",
    "            for i in range(n):\n",
    "                sum += y[i] * X[i,j] * (1 - 1 / (1 + np.exp(-y[i] * np.dot(X[i],w))))\n",
    "            new_w[j] = w[j] +k *sum/np.double(n) - k * C * w[j]\n",
    "        new_cost = cost(X, y, new_w, C)\n",
    "        if distance.euclidean(w, new_w) <= th:\n",
    "            return new_w\n",
    "        c = new_cost\n",
    "        w = new_w\n",
    "\n",
    "    return w"
   ]
  },
  {
   "cell_type": "code",
   "execution_count": 6,
   "metadata": {},
   "outputs": [],
   "source": [
    "k = 0.1\n",
    "score = roc_auc_score(y, sigmoid(X, train(X,y, k, C=0)))\n",
    "score_reg = roc_auc_score(y, sigmoid(X, train(X, y, k, C=10)))"
   ]
  },
  {
   "cell_type": "code",
   "execution_count": 7,
   "metadata": {},
   "outputs": [
    {
     "data": {
      "text/plain": [
       "0.9268571428571428"
      ]
     },
     "execution_count": 7,
     "metadata": {},
     "output_type": "execute_result"
    }
   ],
   "source": [
    "score"
   ]
  }
 ],
 "metadata": {
  "kernelspec": {
   "display_name": "Python 3",
   "language": "python",
   "name": "python3"
  },
  "language_info": {
   "codemirror_mode": {
    "name": "ipython",
    "version": 3
   },
   "file_extension": ".py",
   "mimetype": "text/x-python",
   "name": "python",
   "nbconvert_exporter": "python",
   "pygments_lexer": "ipython3",
   "version": "3.7.1"
  }
 },
 "nbformat": 4,
 "nbformat_minor": 2
}
