{
  "nbformat": 4,
  "nbformat_minor": 0,
  "metadata": {
    "kernelspec": {
      "display_name": "Python 3",
      "language": "python",
      "name": "python3"
    },
    "language_info": {
      "codemirror_mode": {
        "name": "ipython",
        "version": 3
      },
      "file_extension": ".py",
      "mimetype": "text/x-python",
      "name": "python",
      "nbconvert_exporter": "python",
      "pygments_lexer": "ipython3",
      "version": "3.7.6"
    },
    "colab": {
      "name": "nlp-course-lecture02-huawei-noahs-ark-lab.ipynb",
      "provenance": [],
      "toc_visible": true,
      "include_colab_link": true
    }
  },
  "cells": [
    {
      "cell_type": "markdown",
      "metadata": {
        "id": "view-in-github",
        "colab_type": "text"
      },
      "source": [
        "<a href=\"https://colab.research.google.com/github/shuric80/DataLearning/blob/master/nlp_course_lecture02_huawei_noahs_ark_lab.ipynb\" target=\"_parent\"><img src=\"https://colab.research.google.com/assets/colab-badge.svg\" alt=\"Open In Colab\"/></a>"
      ]
    },
    {
      "cell_type": "markdown",
      "metadata": {
        "id": "PPa8F4wx9l9w"
      },
      "source": [
        "## Seminar 2\n",
        "\n",
        "### Intro to PyTorch\n",
        "\n",
        "based on official [PyTorch Blitz Tutorial](https://pytorch.org/tutorials/beginner/deep_learning_60min_blitz.html)"
      ]
    },
    {
      "cell_type": "markdown",
      "metadata": {
        "id": "A3ZbGeJp9l9z"
      },
      "source": [
        "## To install PyTorch please follow instructions from official [website](https://pytorch.org/get-started/locally/)."
      ]
    },
    {
      "cell_type": "markdown",
      "metadata": {
        "id": "RTe__LO_9l92"
      },
      "source": [
        "### What is PyTorch?\n",
        "\n",
        "* It's a package for scientific computations, basically, a replacement for NumPy, that supports GPUs.\n",
        "* It's a deep learning research platform"
      ]
    },
    {
      "cell_type": "markdown",
      "metadata": {
        "id": "yZmCghvT9l94"
      },
      "source": [
        "### Tensors\n",
        "\n",
        "Tensors are similar to NumPy's ndarrays, with the exception of being able to be operated with using GPUs."
      ]
    },
    {
      "cell_type": "code",
      "metadata": {
        "id": "jZnEM3H09l95"
      },
      "source": [
        "import torch"
      ],
      "execution_count": null,
      "outputs": []
    },
    {
      "cell_type": "markdown",
      "metadata": {
        "id": "Qu24L7aA9l-G"
      },
      "source": [
        "To construct a 5x3 matrix, uninitialized:"
      ]
    },
    {
      "cell_type": "code",
      "metadata": {
        "id": "ULCsvVAj9l-H",
        "outputId": "88d0b945-4a1f-41e2-cba4-2c76e3c4c3f9"
      },
      "source": [
        "x = torch.empty(5, 3)\n",
        "print(x)"
      ],
      "execution_count": null,
      "outputs": [
        {
          "output_type": "stream",
          "text": [
            "tensor([[2.6077e-09, 2.4150e-18, 1.8788e+31],\n",
            "        [7.9303e+34, 6.1949e-04, 7.3313e+22],\n",
            "        [7.2151e+22, 2.8404e+29, 2.3089e-12],\n",
            "        [7.1856e+22, 4.3605e+27, 2.5226e-18],\n",
            "        [4.8608e+30, 2.3077e-12, 1.8179e+31]])\n"
          ],
          "name": "stdout"
        }
      ]
    },
    {
      "cell_type": "markdown",
      "metadata": {
        "id": "gdR7daqm9l-R"
      },
      "source": [
        "NB! An uninitialized matrix is declared, but does not contain definite known values before it is used. When an uninitialized matrix is created, whatever values were in the allocated memory at the time will appear as the initial values."
      ]
    },
    {
      "cell_type": "markdown",
      "metadata": {
        "id": "5QYYgLat9l-T"
      },
      "source": [
        "To construct a randomly initialized matrix:"
      ]
    },
    {
      "cell_type": "code",
      "metadata": {
        "id": "id6qtcEp9l-U",
        "outputId": "eec3f129-f53e-4158-9097-db204e9658b6"
      },
      "source": [
        "x = torch.rand(5, 3)\n",
        "print(x)"
      ],
      "execution_count": null,
      "outputs": [
        {
          "output_type": "stream",
          "text": [
            "tensor([[0.1166, 0.5717, 0.6651],\n",
            "        [0.5359, 0.8311, 0.8167],\n",
            "        [0.4717, 0.3155, 0.7331],\n",
            "        [0.7359, 0.8381, 0.3944],\n",
            "        [0.8929, 0.0832, 0.9729]])\n"
          ],
          "name": "stdout"
        }
      ]
    },
    {
      "cell_type": "markdown",
      "metadata": {
        "id": "72Vk9uUx9l-b"
      },
      "source": [
        "To construct a matrix, filled with zeros and data-type long:"
      ]
    },
    {
      "cell_type": "code",
      "metadata": {
        "id": "kBspngUJ9l-c",
        "outputId": "26aeaafc-d7cd-4e9e-d2b1-063aa9371047"
      },
      "source": [
        "x = torch.zeros(5, 3, dtype=torch.long)\n",
        "print(x)"
      ],
      "execution_count": null,
      "outputs": [
        {
          "output_type": "stream",
          "text": [
            "tensor([[0, 0, 0],\n",
            "        [0, 0, 0],\n",
            "        [0, 0, 0],\n",
            "        [0, 0, 0],\n",
            "        [0, 0, 0]])\n"
          ],
          "name": "stdout"
        }
      ]
    },
    {
      "cell_type": "markdown",
      "metadata": {
        "id": "JxZ7kFZS9l-j"
      },
      "source": [
        "A tensor may be initialized directly from data:"
      ]
    },
    {
      "cell_type": "code",
      "metadata": {
        "id": "aOUIZCy49l-l",
        "outputId": "5730e605-bb6c-466b-b717-c9732ec4e85c"
      },
      "source": [
        "x = torch.tensor([5.5, 3])\n",
        "print(x)"
      ],
      "execution_count": null,
      "outputs": [
        {
          "output_type": "stream",
          "text": [
            "tensor([5.5000, 3.0000])\n"
          ],
          "name": "stdout"
        }
      ]
    },
    {
      "cell_type": "markdown",
      "metadata": {
        "id": "iHN7GBgz9l-r"
      },
      "source": [
        "A tensor may be created using an existing tensor. The new one will inherit all the properties of the one, that was passed as a parameter, apart from those, that were parametrized explicitly:"
      ]
    },
    {
      "cell_type": "code",
      "metadata": {
        "id": "n5DwGMXX9l-r",
        "outputId": "e8397084-a7dc-4bc2-8d3f-03a4fe5b22b5"
      },
      "source": [
        "x = x.new_ones(5, 3, dtype=torch.double)      # new_* methods take in sizes\n",
        "print(x)\n",
        "\n",
        "x = torch.randn_like(x, dtype=torch.float)    # override dtype!\n",
        "print(x)   "
      ],
      "execution_count": null,
      "outputs": [
        {
          "output_type": "stream",
          "text": [
            "tensor([[1., 1., 1.],\n",
            "        [1., 1., 1.],\n",
            "        [1., 1., 1.],\n",
            "        [1., 1., 1.],\n",
            "        [1., 1., 1.]], dtype=torch.float64)\n",
            "tensor([[-0.4897, -0.9389, -0.2133],\n",
            "        [-1.5725,  0.3985,  0.3900],\n",
            "        [-0.1218,  0.8778, -0.5675],\n",
            "        [-0.3701,  0.4890, -0.2111],\n",
            "        [-1.4601, -0.7386,  0.4795]])\n"
          ],
          "name": "stdout"
        }
      ]
    },
    {
      "cell_type": "markdown",
      "metadata": {
        "id": "8JwpUuCV9l-w"
      },
      "source": [
        "To check the size of a tensor we use:"
      ]
    },
    {
      "cell_type": "code",
      "metadata": {
        "id": "Wr9gG2nW9l-x",
        "outputId": "94c4b8f5-270e-45a6-cf20-740f101d7724"
      },
      "source": [
        "x.size()"
      ],
      "execution_count": null,
      "outputs": [
        {
          "output_type": "execute_result",
          "data": {
            "text/plain": [
              "torch.Size([5, 3])"
            ]
          },
          "metadata": {
            "tags": []
          },
          "execution_count": 8
        }
      ]
    },
    {
      "cell_type": "markdown",
      "metadata": {
        "id": "jyvRom0i9l-3"
      },
      "source": [
        "NB! The type torch.Size is an abstraction from a mere tuple, so it supports all the tuple operations"
      ]
    },
    {
      "cell_type": "markdown",
      "metadata": {
        "id": "vgJyMAox9l-4"
      },
      "source": [
        "### Operations\n",
        "\n",
        "PyTorch is so pythonic, that it implements operations on tensors in many different syntaxes to match everyones needs and tastes. Let us take a look at the addition operation:"
      ]
    },
    {
      "cell_type": "code",
      "metadata": {
        "id": "en-fOIFt9l-5",
        "outputId": "101728e7-17a4-4fc1-a71f-8c647bbcab7a"
      },
      "source": [
        "y = torch.rand(5, 3)\n",
        "print(x + y)"
      ],
      "execution_count": null,
      "outputs": [
        {
          "output_type": "stream",
          "text": [
            "tensor([[-0.0214, -0.2051,  0.0226],\n",
            "        [-1.3094,  1.3732,  0.4110],\n",
            "        [ 0.2496,  1.5321, -0.0281],\n",
            "        [-0.1431,  0.5872, -0.0183],\n",
            "        [-1.1249, -0.2715,  0.5465]])\n"
          ],
          "name": "stdout"
        }
      ]
    },
    {
      "cell_type": "code",
      "metadata": {
        "id": "L8RIJwdr9l--",
        "outputId": "ac8f4cb2-e826-4d29-f155-1f60edb8d362"
      },
      "source": [
        "print(torch.add(x, y))"
      ],
      "execution_count": null,
      "outputs": [
        {
          "output_type": "stream",
          "text": [
            "tensor([[-0.0214, -0.2051,  0.0226],\n",
            "        [-1.3094,  1.3732,  0.4110],\n",
            "        [ 0.2496,  1.5321, -0.0281],\n",
            "        [-0.1431,  0.5872, -0.0183],\n",
            "        [-1.1249, -0.2715,  0.5465]])\n"
          ],
          "name": "stdout"
        }
      ]
    },
    {
      "cell_type": "markdown",
      "metadata": {
        "id": "_2liljO59l_F"
      },
      "source": [
        "In case you need it, you can pass an out variable as a parameter to any operation like add:"
      ]
    },
    {
      "cell_type": "code",
      "metadata": {
        "id": "gpSqKizP9l_F",
        "outputId": "9ca60fb2-c950-498b-c845-3ddb593b35d4"
      },
      "source": [
        "result = torch.empty(5, 3)\n",
        "torch.add(x, y, out=result)\n",
        "print(result)"
      ],
      "execution_count": null,
      "outputs": [
        {
          "output_type": "stream",
          "text": [
            "tensor([[-0.0214, -0.2051,  0.0226],\n",
            "        [-1.3094,  1.3732,  0.4110],\n",
            "        [ 0.2496,  1.5321, -0.0281],\n",
            "        [-0.1431,  0.5872, -0.0183],\n",
            "        [-1.1249, -0.2715,  0.5465]])\n"
          ],
          "name": "stdout"
        }
      ]
    },
    {
      "cell_type": "markdown",
      "metadata": {
        "id": "2uMWQ_-J9l_M"
      },
      "source": [
        "Tensor objects support all the operations as methods:"
      ]
    },
    {
      "cell_type": "code",
      "metadata": {
        "id": "rhJ3XcG19l_N",
        "outputId": "ed268475-4d44-4dc5-cb68-202d13ed9594"
      },
      "source": [
        "x.add(y)"
      ],
      "execution_count": null,
      "outputs": [
        {
          "output_type": "execute_result",
          "data": {
            "text/plain": [
              "tensor([[-0.0214, -0.2051,  0.0226],\n",
              "        [-1.3094,  1.3732,  0.4110],\n",
              "        [ 0.2496,  1.5321, -0.0281],\n",
              "        [-0.1431,  0.5872, -0.0183],\n",
              "        [-1.1249, -0.2715,  0.5465]])"
            ]
          },
          "metadata": {
            "tags": []
          },
          "execution_count": 12
        }
      ]
    },
    {
      "cell_type": "markdown",
      "metadata": {
        "id": "f8fPxdl19l_S"
      },
      "source": [
        "In case you need to perform an operation in-place, you use the operation_ syntax:"
      ]
    },
    {
      "cell_type": "code",
      "metadata": {
        "id": "BI6B5S1H9l_S",
        "outputId": "e5375c0b-9d1e-4c32-ca17-0d805a079277"
      },
      "source": [
        "x.add_(y)"
      ],
      "execution_count": null,
      "outputs": [
        {
          "output_type": "execute_result",
          "data": {
            "text/plain": [
              "tensor([[-0.0214, -0.2051,  0.0226],\n",
              "        [-1.3094,  1.3732,  0.4110],\n",
              "        [ 0.2496,  1.5321, -0.0281],\n",
              "        [-0.1431,  0.5872, -0.0183],\n",
              "        [-1.1249, -0.2715,  0.5465]])"
            ]
          },
          "metadata": {
            "tags": []
          },
          "execution_count": 13
        }
      ]
    },
    {
      "cell_type": "markdown",
      "metadata": {
        "id": "gGNAvQtq9l_Z"
      },
      "source": [
        "The result of an in-place operation is stored in the left operand object, in this particular case in x"
      ]
    },
    {
      "cell_type": "code",
      "metadata": {
        "id": "2_KrkwMK9l_a",
        "outputId": "e936d92e-c5d6-4a92-f53c-b38f6a29f62e"
      },
      "source": [
        "x"
      ],
      "execution_count": null,
      "outputs": [
        {
          "output_type": "execute_result",
          "data": {
            "text/plain": [
              "tensor([[-0.0214, -0.2051,  0.0226],\n",
              "        [-1.3094,  1.3732,  0.4110],\n",
              "        [ 0.2496,  1.5321, -0.0281],\n",
              "        [-0.1431,  0.5872, -0.0183],\n",
              "        [-1.1249, -0.2715,  0.5465]])"
            ]
          },
          "metadata": {
            "tags": []
          },
          "execution_count": 14
        }
      ]
    },
    {
      "cell_type": "markdown",
      "metadata": {
        "id": "EkhS-s5y9l_e"
      },
      "source": [
        "The sugarish NumPy indexing syntax is also supported:"
      ]
    },
    {
      "cell_type": "code",
      "metadata": {
        "id": "ON-3Snrj9l_e",
        "outputId": "5eaa5d50-6b99-4a98-8ecc-06e2ebd2e146"
      },
      "source": [
        "print(x[:, 1])"
      ],
      "execution_count": null,
      "outputs": [
        {
          "output_type": "stream",
          "text": [
            "tensor([-0.2051,  1.3732,  1.5321,  0.5872, -0.2715])\n"
          ],
          "name": "stdout"
        }
      ]
    },
    {
      "cell_type": "markdown",
      "metadata": {
        "id": "aO1BlkNz9l_k"
      },
      "source": [
        "In case there is a need to resize (*reshape*) a tensor, the ``` view ``` method comes into action:"
      ]
    },
    {
      "cell_type": "code",
      "metadata": {
        "id": "ngmYYXtM9l_l",
        "outputId": "5118773d-6a9c-4280-a1a5-2d8556faa52f"
      },
      "source": [
        "x = torch.randn(4, 4)\n",
        "y = x.view(16)\n",
        "z = x.view(-1, 8)  # the size -1 denotes the original dimension size\n",
        "print(x.size(), y.size(), z.size())"
      ],
      "execution_count": null,
      "outputs": [
        {
          "output_type": "stream",
          "text": [
            "torch.Size([4, 4]) torch.Size([16]) torch.Size([2, 8])\n"
          ],
          "name": "stdout"
        }
      ]
    },
    {
      "cell_type": "markdown",
      "metadata": {
        "id": "ySr5B2579l_p"
      },
      "source": [
        "To get the number out of the tensor use:"
      ]
    },
    {
      "cell_type": "code",
      "metadata": {
        "id": "3u3rnxBY9l_q",
        "outputId": "dc0118c8-4cb8-40f7-8da0-5a5c0dc00e37"
      },
      "source": [
        "x = torch.randn(1)\n",
        "print(x)\n",
        "print(x.item())"
      ],
      "execution_count": null,
      "outputs": [
        {
          "output_type": "stream",
          "text": [
            "tensor([0.6701])\n",
            "0.6701100468635559\n"
          ],
          "name": "stdout"
        }
      ]
    },
    {
      "cell_type": "code",
      "metadata": {
        "id": "EF31D1Ui9l_u",
        "outputId": "eb80b7bd-4ed0-4362-cd82-0e8c5ff610be"
      },
      "source": [
        "y[1].item()"
      ],
      "execution_count": null,
      "outputs": [
        {
          "output_type": "execute_result",
          "data": {
            "text/plain": [
              "-0.21658283472061157"
            ]
          },
          "metadata": {
            "tags": []
          },
          "execution_count": 18
        }
      ]
    },
    {
      "cell_type": "markdown",
      "metadata": {
        "id": "Ev2BSrip9l_z"
      },
      "source": [
        "In case we need to check, if CUDA is available, we use:"
      ]
    },
    {
      "cell_type": "code",
      "metadata": {
        "id": "HUYG6kpT9l_2"
      },
      "source": [
        "# let us run this cell only if CUDA is available\n",
        "# We will use ``torch.device`` objects to move tensors in and out of GPU\n",
        "if torch.cuda.is_available():\n",
        "    device = torch.device(\"cuda\")          # a CUDA device object\n",
        "    y = torch.ones_like(x, device=device)  # directly create a tensor on GPU\n",
        "    x = x.to(device)                       # or just use strings ``.to(\"cuda\")``\n",
        "    z = x + y\n",
        "    print(z)\n",
        "    print(z.to(\"cpu\", torch.double))"
      ],
      "execution_count": null,
      "outputs": []
    },
    {
      "cell_type": "markdown",
      "metadata": {
        "id": "vZ3-0_ps9l_6"
      },
      "source": [
        "### Autograd\n",
        "\n",
        "The next thing that is worth looking at is the automatic gradient computation module of pyTorch. It is called\n",
        "*torch.autograd* . This module does all the *magic* that is connected with gradient computations, using a sofisticated computation graph architecture, that is going to be covered later. For now we will get to know only basic concepts of it."
      ]
    },
    {
      "cell_type": "markdown",
      "metadata": {
        "id": "fEEEgDZC9l_7"
      },
      "source": [
        "To include a `Tensor` into the computation graph, its `.requires_grad` attribute should be set to `True`"
      ]
    },
    {
      "cell_type": "code",
      "metadata": {
        "id": "QXTDqehI9l_8",
        "outputId": "1eee4047-9dd2-46ad-bcc8-77b5158a6be9"
      },
      "source": [
        "x = torch.ones(2, 2, requires_grad=True)\n",
        "print(x)"
      ],
      "execution_count": null,
      "outputs": [
        {
          "output_type": "stream",
          "text": [
            "tensor([[1., 1.],\n",
            "        [1., 1.]], requires_grad=True)\n"
          ],
          "name": "stdout"
        }
      ]
    },
    {
      "cell_type": "markdown",
      "metadata": {
        "id": "GSmyueOV9mAA"
      },
      "source": [
        "After any operation is applied (in this particular case - addition), a `Function` object is assigned to the `.grad_fn` attribute of the tensor `y` and added to the computation graph for backward propagation of the gradient."
      ]
    },
    {
      "cell_type": "code",
      "metadata": {
        "id": "vwKEXDPF9mAC",
        "outputId": "e963d975-a132-4f8b-b660-522f0db058cb"
      },
      "source": [
        "y = x + 2\n",
        "print(y)"
      ],
      "execution_count": null,
      "outputs": [
        {
          "output_type": "stream",
          "text": [
            "tensor([[3., 3.],\n",
            "        [3., 3.]], grad_fn=<AddBackward0>)\n"
          ],
          "name": "stdout"
        }
      ]
    },
    {
      "cell_type": "code",
      "metadata": {
        "id": "MoWVdaVF9mAG",
        "outputId": "27cdbae2-f7c0-40fb-fdd1-67a36136a7eb"
      },
      "source": [
        "print(y.grad_fn)"
      ],
      "execution_count": null,
      "outputs": [
        {
          "output_type": "stream",
          "text": [
            "<AddBackward0 object at 0x7f01e38ba250>\n"
          ],
          "name": "stdout"
        }
      ]
    },
    {
      "cell_type": "code",
      "metadata": {
        "id": "Qrf58ccL9mAL",
        "outputId": "bcc6e086-de0e-4338-ac26-cabbd3a0c85e"
      },
      "source": [
        "z = y * y * 3\n",
        "out = z.mean()\n",
        "\n",
        "print(z, out)"
      ],
      "execution_count": null,
      "outputs": [
        {
          "output_type": "stream",
          "text": [
            "tensor([[27., 27.],\n",
            "        [27., 27.]], grad_fn=<MulBackward0>) tensor(27., grad_fn=<MeanBackward0>)\n"
          ],
          "name": "stdout"
        }
      ]
    },
    {
      "cell_type": "markdown",
      "metadata": {
        "id": "D4eVgNs-9mAP"
      },
      "source": [
        "This `.grad_fn` attribute can be changed on the fly. See the difference: if a tensor does not require gradient, it is not included into the computation graph, hence it does not store any backward function. However, once `.grad_fn` changed to `True`, all the operations start to be tracked."
      ]
    },
    {
      "cell_type": "code",
      "metadata": {
        "id": "zFC-jHzx9mAQ",
        "outputId": "cf57827f-5661-4528-c0dd-78f9f84d2e9c"
      },
      "source": [
        "a = torch.randn(2, 2)\n",
        "a = ((a * 3) / (a - 1))\n",
        "print(a.requires_grad)\n",
        "a.requires_grad_(True)\n",
        "print(a.requires_grad)\n",
        "b = (a * a).sum()\n",
        "print(b.grad_fn)"
      ],
      "execution_count": null,
      "outputs": [
        {
          "output_type": "stream",
          "text": [
            "False\n",
            "True\n",
            "<SumBackward0 object at 0x7f01e38b85d0>\n"
          ],
          "name": "stdout"
        }
      ]
    },
    {
      "cell_type": "markdown",
      "metadata": {
        "id": "WGyasiLP9mAT"
      },
      "source": [
        "One of the most important things in the torch framework is the `.backward()` method. It triggers the calculation of the gradients for all the nodes (e.g. neural net parameters) in the computation graph that are chained to the callee node. \n",
        "\n",
        "NB! `.backward()` when called on a \\[1, 1\\] tensor, requires no arguments"
      ]
    },
    {
      "cell_type": "code",
      "metadata": {
        "id": "y3zdzF5C9mAU"
      },
      "source": [
        "out.backward()"
      ],
      "execution_count": null,
      "outputs": []
    },
    {
      "cell_type": "code",
      "metadata": {
        "id": "j2WlaS1X9mAY",
        "outputId": "0080d0e5-563c-4fa0-fce9-e98eee9cba36"
      },
      "source": [
        "print(x.grad)"
      ],
      "execution_count": null,
      "outputs": [
        {
          "output_type": "stream",
          "text": [
            "tensor([[4.5000, 4.5000],\n",
            "        [4.5000, 4.5000]])\n"
          ],
          "name": "stdout"
        }
      ]
    },
    {
      "cell_type": "code",
      "metadata": {
        "id": "U57iMHWL9mAc",
        "outputId": "81027c97-c32a-4651-e07d-788965b47b34"
      },
      "source": [
        "x = torch.randn(3, requires_grad=True)\n",
        "\n",
        "y = x * 2\n",
        "while y.data.norm() < 1000:\n",
        "    y = y * 2\n",
        "\n",
        "print(y)"
      ],
      "execution_count": null,
      "outputs": [
        {
          "output_type": "stream",
          "text": [
            "tensor([ -530.9305,  -165.8669, -1075.9464], grad_fn=<MulBackward0>)\n"
          ],
          "name": "stdout"
        }
      ]
    },
    {
      "cell_type": "markdown",
      "metadata": {
        "id": "roNOpyPK9mAf"
      },
      "source": [
        "If there is a need to stop autograd from tracking history on Tensors you can use either context manager:"
      ]
    },
    {
      "cell_type": "code",
      "metadata": {
        "id": "cv78SqKn9mAf",
        "outputId": "4fea6607-b6e7-42d4-bb1a-a5b6094a0d3a"
      },
      "source": [
        "print(x.requires_grad)\n",
        "print((x ** 2).requires_grad)\n",
        "\n",
        "with torch.no_grad():\n",
        "    print((x ** 2).requires_grad)"
      ],
      "execution_count": null,
      "outputs": [
        {
          "output_type": "stream",
          "text": [
            "True\n",
            "True\n",
            "False\n"
          ],
          "name": "stdout"
        }
      ]
    },
    {
      "cell_type": "markdown",
      "metadata": {
        "id": "eeU-xAQA9mAi"
      },
      "source": [
        "or `.detach()` method:"
      ]
    },
    {
      "cell_type": "code",
      "metadata": {
        "id": "3FcNTZnF9mAj",
        "outputId": "4a110e89-3034-4713-e13e-fac769c9b334"
      },
      "source": [
        "print(x.requires_grad)\n",
        "y = x.detach()\n",
        "print(y.requires_grad)\n",
        "print(x.eq(y).all())"
      ],
      "execution_count": null,
      "outputs": [
        {
          "output_type": "stream",
          "text": [
            "True\n",
            "False\n",
            "tensor(True)\n"
          ],
          "name": "stdout"
        }
      ]
    },
    {
      "cell_type": "markdown",
      "metadata": {
        "id": "npqtTJ4P9mAm"
      },
      "source": [
        "## Logistic Regression Using PyTorch\n",
        "### based on [this](https://blog.goodaudience.com/awesome-introduction-to-logistic-regression-in-pytorch-d13883ceaa90) blogpost"
      ]
    },
    {
      "cell_type": "markdown",
      "metadata": {
        "id": "oTYY50rU9mAm"
      },
      "source": [
        "Basically, most of pyTorch modeling can be broken down into these steps:\n",
        "* loading the dataset\n",
        "* making the dataset iterable\n",
        "* instantiating the **model** class\n",
        "* instantiating the **loss** class\n",
        "* instantiating the **optimizer** class\n",
        "* training the model"
      ]
    },
    {
      "cell_type": "markdown",
      "metadata": {
        "id": "IH5BNcv29mAn"
      },
      "source": [
        "#### Load Dataset"
      ]
    },
    {
      "cell_type": "code",
      "metadata": {
        "id": "8LPzF9x_9mAo",
        "outputId": "422c03a8-118c-405b-c1c7-3617d088565c"
      },
      "source": [
        "%pip install torchtext"
      ],
      "execution_count": null,
      "outputs": [
        {
          "output_type": "stream",
          "text": [
            "Collecting torchtext\n",
            "  Downloading torchtext-0.7.0-cp37-cp37m-manylinux1_x86_64.whl (4.5 MB)\n",
            "\u001b[K     |████████████████████████████████| 4.5 MB 37 kB/s eta 0:00:0195\n",
            "\u001b[?25hRequirement already satisfied: requests in /home/shuric/miniconda3/lib/python3.7/site-packages (from torchtext) (2.22.0)\n",
            "Requirement already satisfied: tqdm in /home/shuric/miniconda3/lib/python3.7/site-packages (from torchtext) (4.42.1)\n",
            "Requirement already satisfied: torch in /home/shuric/miniconda3/lib/python3.7/site-packages (from torchtext) (1.5.0)\n",
            "Collecting sentencepiece\n",
            "  Downloading sentencepiece-0.1.91-cp37-cp37m-manylinux1_x86_64.whl (1.1 MB)\n",
            "\u001b[K     |████████████████████████████████| 1.1 MB 47 kB/s eta 0:00:013\n",
            "\u001b[?25hRequirement already satisfied: numpy in /home/shuric/miniconda3/lib/python3.7/site-packages (from torchtext) (1.18.1)\n",
            "Requirement already satisfied: chardet<3.1.0,>=3.0.2 in /home/shuric/miniconda3/lib/python3.7/site-packages (from requests->torchtext) (3.0.4)\n",
            "Requirement already satisfied: certifi>=2017.4.17 in /home/shuric/miniconda3/lib/python3.7/site-packages (from requests->torchtext) (2020.4.5.1)\n",
            "Requirement already satisfied: urllib3!=1.25.0,!=1.25.1,<1.26,>=1.21.1 in /home/shuric/miniconda3/lib/python3.7/site-packages (from requests->torchtext) (1.25.8)\n",
            "Requirement already satisfied: idna<2.9,>=2.5 in /home/shuric/miniconda3/lib/python3.7/site-packages (from requests->torchtext) (2.8)\n",
            "Collecting future\n",
            "  Downloading future-0.18.2.tar.gz (829 kB)\n",
            "\u001b[K     |████████████████████████████████| 829 kB 16 kB/s eta 0:00:01\n",
            "\u001b[?25hBuilding wheels for collected packages: future\n",
            "  Building wheel for future (setup.py) ... \u001b[?25ldone\n",
            "\u001b[?25h  Created wheel for future: filename=future-0.18.2-py3-none-any.whl size=491058 sha256=96337386f63601ddac3f0418fb9e9bb4328b40920a79221d557facd28a9fff22\n",
            "  Stored in directory: /home/shuric/.cache/pip/wheels/56/b0/fe/4410d17b32f1f0c3cf54cdfb2bc04d7b4b8f4ae377e2229ba0\n",
            "Successfully built future\n",
            "Installing collected packages: sentencepiece, torchtext, future\n",
            "Successfully installed future-0.18.2 sentencepiece-0.1.91 torchtext-0.7.0\n",
            "\u001b[33mWARNING: You are using pip version 20.0.2; however, version 20.2.3 is available.\n",
            "You should consider upgrading via the '/home/shuric/miniconda3/bin/python -m pip install --upgrade pip' command.\u001b[0m\n",
            "Note: you may need to restart the kernel to use updated packages.\n"
          ],
          "name": "stdout"
        }
      ]
    },
    {
      "cell_type": "code",
      "metadata": {
        "id": "4Lu8FzJD9mAs",
        "outputId": "13a7e3f8-fb18-442f-b373-c38ab1670f9f"
      },
      "source": [
        "from torchtext import data\n",
        "from torch.nn import functional as F\n",
        "import torch"
      ],
      "execution_count": null,
      "outputs": [
        {
          "output_type": "error",
          "ename": "OSError",
          "evalue": "/home/shuric/miniconda3/lib/python3.7/site-packages/torchtext/_torchtext.so: undefined symbol: _ZN3c1023_fastEqualsForContainerERKNS_6IValueES2_",
          "traceback": [
            "\u001b[0;31m---------------------------------------------------------------------------\u001b[0m",
            "\u001b[0;31mOSError\u001b[0m                                   Traceback (most recent call last)",
            "\u001b[0;32m<ipython-input-33-3e1b4b3dfb12>\u001b[0m in \u001b[0;36m<module>\u001b[0;34m\u001b[0m\n\u001b[0;32m----> 1\u001b[0;31m \u001b[0;32mfrom\u001b[0m \u001b[0mtorchtext\u001b[0m \u001b[0;32mimport\u001b[0m \u001b[0mdata\u001b[0m\u001b[0;34m\u001b[0m\u001b[0;34m\u001b[0m\u001b[0m\n\u001b[0m\u001b[1;32m      2\u001b[0m \u001b[0;32mfrom\u001b[0m \u001b[0mtorch\u001b[0m\u001b[0;34m.\u001b[0m\u001b[0mnn\u001b[0m \u001b[0;32mimport\u001b[0m \u001b[0mfunctional\u001b[0m \u001b[0;32mas\u001b[0m \u001b[0mF\u001b[0m\u001b[0;34m\u001b[0m\u001b[0;34m\u001b[0m\u001b[0m\n\u001b[1;32m      3\u001b[0m \u001b[0;32mimport\u001b[0m \u001b[0mtorch\u001b[0m\u001b[0;34m\u001b[0m\u001b[0;34m\u001b[0m\u001b[0m\n",
            "\u001b[0;32m~/miniconda3/lib/python3.7/site-packages/torchtext/__init__.py\u001b[0m in \u001b[0;36m<module>\u001b[0;34m\u001b[0m\n\u001b[1;32m     40\u001b[0m \u001b[0;34m\u001b[0m\u001b[0m\n\u001b[1;32m     41\u001b[0m \u001b[0;34m\u001b[0m\u001b[0m\n\u001b[0;32m---> 42\u001b[0;31m \u001b[0m_init_extension\u001b[0m\u001b[0;34m(\u001b[0m\u001b[0;34m)\u001b[0m\u001b[0;34m\u001b[0m\u001b[0;34m\u001b[0m\u001b[0m\n\u001b[0m\u001b[1;32m     43\u001b[0m \u001b[0;34m\u001b[0m\u001b[0m\n\u001b[1;32m     44\u001b[0m \u001b[0;34m\u001b[0m\u001b[0m\n",
            "\u001b[0;32m~/miniconda3/lib/python3.7/site-packages/torchtext/__init__.py\u001b[0m in \u001b[0;36m_init_extension\u001b[0;34m()\u001b[0m\n\u001b[1;32m     36\u001b[0m     \u001b[0;32mif\u001b[0m \u001b[0mext_specs\u001b[0m \u001b[0;32mis\u001b[0m \u001b[0;32mNone\u001b[0m\u001b[0;34m:\u001b[0m\u001b[0;34m\u001b[0m\u001b[0;34m\u001b[0m\u001b[0m\n\u001b[1;32m     37\u001b[0m         \u001b[0;32mraise\u001b[0m \u001b[0mImportError\u001b[0m\u001b[0;34m(\u001b[0m\u001b[0;34m\"torchtext C++ Extension is not found.\"\u001b[0m\u001b[0;34m)\u001b[0m\u001b[0;34m\u001b[0m\u001b[0;34m\u001b[0m\u001b[0m\n\u001b[0;32m---> 38\u001b[0;31m     \u001b[0mtorch\u001b[0m\u001b[0;34m.\u001b[0m\u001b[0mops\u001b[0m\u001b[0;34m.\u001b[0m\u001b[0mload_library\u001b[0m\u001b[0;34m(\u001b[0m\u001b[0mext_specs\u001b[0m\u001b[0;34m.\u001b[0m\u001b[0morigin\u001b[0m\u001b[0;34m)\u001b[0m\u001b[0;34m\u001b[0m\u001b[0;34m\u001b[0m\u001b[0m\n\u001b[0m\u001b[1;32m     39\u001b[0m     \u001b[0mtorch\u001b[0m\u001b[0;34m.\u001b[0m\u001b[0mclasses\u001b[0m\u001b[0;34m.\u001b[0m\u001b[0mload_library\u001b[0m\u001b[0;34m(\u001b[0m\u001b[0mext_specs\u001b[0m\u001b[0;34m.\u001b[0m\u001b[0morigin\u001b[0m\u001b[0;34m)\u001b[0m\u001b[0;34m\u001b[0m\u001b[0;34m\u001b[0m\u001b[0m\n\u001b[1;32m     40\u001b[0m \u001b[0;34m\u001b[0m\u001b[0m\n",
            "\u001b[0;32m~/miniconda3/lib/python3.7/site-packages/torch/_ops.py\u001b[0m in \u001b[0;36mload_library\u001b[0;34m(self, path)\u001b[0m\n\u001b[1;32m    103\u001b[0m             \u001b[0;31m# static (global) initialization code in order to register custom\u001b[0m\u001b[0;34m\u001b[0m\u001b[0;34m\u001b[0m\u001b[0;34m\u001b[0m\u001b[0m\n\u001b[1;32m    104\u001b[0m             \u001b[0;31m# operators with the JIT.\u001b[0m\u001b[0;34m\u001b[0m\u001b[0;34m\u001b[0m\u001b[0;34m\u001b[0m\u001b[0m\n\u001b[0;32m--> 105\u001b[0;31m             \u001b[0mctypes\u001b[0m\u001b[0;34m.\u001b[0m\u001b[0mCDLL\u001b[0m\u001b[0;34m(\u001b[0m\u001b[0mpath\u001b[0m\u001b[0;34m)\u001b[0m\u001b[0;34m\u001b[0m\u001b[0;34m\u001b[0m\u001b[0m\n\u001b[0m\u001b[1;32m    106\u001b[0m         \u001b[0mself\u001b[0m\u001b[0;34m.\u001b[0m\u001b[0mloaded_libraries\u001b[0m\u001b[0;34m.\u001b[0m\u001b[0madd\u001b[0m\u001b[0;34m(\u001b[0m\u001b[0mpath\u001b[0m\u001b[0;34m)\u001b[0m\u001b[0;34m\u001b[0m\u001b[0;34m\u001b[0m\u001b[0m\n\u001b[1;32m    107\u001b[0m \u001b[0;34m\u001b[0m\u001b[0m\n",
            "\u001b[0;32m~/miniconda3/lib/python3.7/ctypes/__init__.py\u001b[0m in \u001b[0;36m__init__\u001b[0;34m(self, name, mode, handle, use_errno, use_last_error)\u001b[0m\n\u001b[1;32m    362\u001b[0m \u001b[0;34m\u001b[0m\u001b[0m\n\u001b[1;32m    363\u001b[0m         \u001b[0;32mif\u001b[0m \u001b[0mhandle\u001b[0m \u001b[0;32mis\u001b[0m \u001b[0;32mNone\u001b[0m\u001b[0;34m:\u001b[0m\u001b[0;34m\u001b[0m\u001b[0;34m\u001b[0m\u001b[0m\n\u001b[0;32m--> 364\u001b[0;31m             \u001b[0mself\u001b[0m\u001b[0;34m.\u001b[0m\u001b[0m_handle\u001b[0m \u001b[0;34m=\u001b[0m \u001b[0m_dlopen\u001b[0m\u001b[0;34m(\u001b[0m\u001b[0mself\u001b[0m\u001b[0;34m.\u001b[0m\u001b[0m_name\u001b[0m\u001b[0;34m,\u001b[0m \u001b[0mmode\u001b[0m\u001b[0;34m)\u001b[0m\u001b[0;34m\u001b[0m\u001b[0;34m\u001b[0m\u001b[0m\n\u001b[0m\u001b[1;32m    365\u001b[0m         \u001b[0;32melse\u001b[0m\u001b[0;34m:\u001b[0m\u001b[0;34m\u001b[0m\u001b[0;34m\u001b[0m\u001b[0m\n\u001b[1;32m    366\u001b[0m             \u001b[0mself\u001b[0m\u001b[0;34m.\u001b[0m\u001b[0m_handle\u001b[0m \u001b[0;34m=\u001b[0m \u001b[0mhandle\u001b[0m\u001b[0;34m\u001b[0m\u001b[0;34m\u001b[0m\u001b[0m\n",
            "\u001b[0;31mOSError\u001b[0m: /home/shuric/miniconda3/lib/python3.7/site-packages/torchtext/_torchtext.so: undefined symbol: _ZN3c1023_fastEqualsForContainerERKNS_6IValueES2_"
          ]
        }
      ]
    },
    {
      "cell_type": "code",
      "metadata": {
        "id": "nKHcuP5S9mA9"
      },
      "source": [
        "if torch.cuda.is_available():\n",
        "    DEVICE = torch.device(\"cuda\")\n",
        "else:\n",
        "    DEVICE = torch.device(\"cpu\")"
      ],
      "execution_count": null,
      "outputs": []
    },
    {
      "cell_type": "code",
      "metadata": {
        "scrolled": true,
        "id": "K0yIR3yl9mA_"
      },
      "source": [
        "SEED = 1234\n",
        "\n",
        "torch.manual_seed(SEED)\n",
        "torch.backends.cudnn.deterministic = True"
      ],
      "execution_count": null,
      "outputs": []
    },
    {
      "cell_type": "code",
      "metadata": {
        "id": "50I4HHYb9mBC",
        "outputId": "8ea64f00-7e1d-4d6a-e1ad-8e019de47e28"
      },
      "source": [
        "import nltk"
      ],
      "execution_count": null,
      "outputs": [
        {
          "output_type": "error",
          "ename": "ModuleNotFoundError",
          "evalue": "No module named 'nltk'",
          "traceback": [
            "\u001b[0;31m---------------------------------------------------------------------------\u001b[0m",
            "\u001b[0;31mModuleNotFoundError\u001b[0m                       Traceback (most recent call last)",
            "\u001b[0;32m<ipython-input-36-1d2184025e54>\u001b[0m in \u001b[0;36m<module>\u001b[0;34m\u001b[0m\n\u001b[0;32m----> 1\u001b[0;31m \u001b[0;32mimport\u001b[0m \u001b[0mnltk\u001b[0m\u001b[0;34m\u001b[0m\u001b[0;34m\u001b[0m\u001b[0m\n\u001b[0m",
            "\u001b[0;31mModuleNotFoundError\u001b[0m: No module named 'nltk'"
          ]
        }
      ]
    },
    {
      "cell_type": "code",
      "metadata": {
        "id": "giAShMG_9mBF"
      },
      "source": [
        "nltk.download(\"movie_reviews\")"
      ],
      "execution_count": null,
      "outputs": []
    },
    {
      "cell_type": "code",
      "metadata": {
        "id": "E1PB0_eh9mBH"
      },
      "source": [
        "import re\n",
        "import os"
      ],
      "execution_count": null,
      "outputs": []
    },
    {
      "cell_type": "code",
      "metadata": {
        "id": "FW8pMRmB9mBJ"
      },
      "source": [
        "POS = \"pos\"\n",
        "NEG = \"neg\""
      ],
      "execution_count": null,
      "outputs": []
    },
    {
      "cell_type": "code",
      "metadata": {
        "id": "UzmbtOwq9mBM"
      },
      "source": [
        "text_sentiments = (POS, NEG)\n",
        "\n",
        "train_data_list = []\n",
        "test_data_list = []\n",
        "\n",
        "examples = []\n",
        "\n",
        "for sentiment in text_sentiments:\n",
        "    for filename in os.listdir(os.path.join(nltk.corpus.movie_reviews.root.path, sentiment)):\n",
        "        with open(os.path.join(nltk.corpus.movie_reviews.root.path, sentiment, filename), \"r\", encoding=\"utf-8\") as file:\n",
        "            examples.append({\"text\": file.read().strip(),\n",
        "                             \"sentiment\": int(sentiment == POS)})"
      ],
      "execution_count": null,
      "outputs": []
    },
    {
      "cell_type": "code",
      "metadata": {
        "id": "IhOwgU2z9mBO"
      },
      "source": [
        "%pip install pandas"
      ],
      "execution_count": null,
      "outputs": []
    },
    {
      "cell_type": "code",
      "metadata": {
        "id": "pjHkkl-S9mBR"
      },
      "source": [
        "import pandas as pd"
      ],
      "execution_count": null,
      "outputs": []
    },
    {
      "cell_type": "code",
      "metadata": {
        "id": "WHv514Tt9mBU"
      },
      "source": [
        "examples_df = pd.DataFrame(examples)"
      ],
      "execution_count": null,
      "outputs": []
    },
    {
      "cell_type": "code",
      "metadata": {
        "id": "ItArWWOD9mBX"
      },
      "source": [
        "examples_df = examples_df.sample(frac=1)\n",
        "train_df = examples_df.sample(frac=0.7)\n",
        "test_df = examples_df.drop(index=train_df.index)\n",
        "train_texts, train_labels = train_df.text.values, train_df.sentiment.values\n",
        "test_texts, test_labels = test_df.text.values, test_df.sentiment.values"
      ],
      "execution_count": null,
      "outputs": []
    },
    {
      "cell_type": "code",
      "metadata": {
        "id": "H_RzCjut9mBZ"
      },
      "source": [
        "test_labels"
      ],
      "execution_count": null,
      "outputs": []
    },
    {
      "cell_type": "code",
      "metadata": {
        "id": "BTNg9byP9mBb"
      },
      "source": [
        "len(test_df.text.values), len(test_df.sentiment.values), len(test_labels)"
      ],
      "execution_count": null,
      "outputs": []
    },
    {
      "cell_type": "code",
      "metadata": {
        "id": "7InX92m39mBe"
      },
      "source": [
        "from typing import List, Dict, Any, Iterable\n",
        "from collections import Counter, OrderedDict\n",
        "import math\n",
        "from itertools import islice\n",
        "import torch.nn.functional as F"
      ],
      "execution_count": null,
      "outputs": []
    },
    {
      "cell_type": "code",
      "metadata": {
        "id": "VBlKKCb_9mBh"
      },
      "source": [
        "class TfIdfVectorizer:\n",
        "\n",
        "            \n",
        "    def __init__(self, lower=True, tokenizer_pattern=r\"(?i)\\b[a-z]{2,}\\b\"):\n",
        "        self.lower = lower\n",
        "        self.tokenizer_pattern = re.compile(tokenizer_pattern)\n",
        "        self.vocab_df = OrderedDict()\n",
        "        \n",
        "    def __tokenize(self, text: str) -> List[str]:\n",
        "        return self.tokenizer_pattern.findall(text.lower() if self.lower else text)\n",
        "    \n",
        "    def fit(self, texts: Iterable[str]):\n",
        "        term_id = 0\n",
        "        for doc_idx, doc in enumerate(texts):\n",
        "            tokenized = self.__tokenize(doc)\n",
        "            for term in tokenized:\n",
        "                if term not in self.vocab_df:\n",
        "                    self.vocab_df[term] = {}\n",
        "                    self.vocab_df[term][\"doc_ids\"] = {doc_idx}\n",
        "                    self.vocab_df[term][\"doc_count\"] = 1\n",
        "                    self.vocab_df[term][\"id\"] = term_id\n",
        "                    term_id += 1\n",
        "                elif doc_idx not in self.vocab_df[term][\"doc_ids\"]:\n",
        "                    self.vocab_df[term][\"doc_ids\"].add(doc_idx)\n",
        "                    self.vocab_df[term][\"doc_count\"] += 1\n",
        "        texts_len = len(texts)\n",
        "        for term in self.vocab_df:\n",
        "            self.vocab_df[term][\"idf\"] = math.log(texts_len / self.vocab_df[term][\"doc_count\"])\n",
        "        \n",
        "        \n",
        "    def transform(self, texts: Iterable[str]) -> torch.sparse.LongTensor:\n",
        "        values = []\n",
        "        doc_indices = []\n",
        "        term_indices = []\n",
        "        for doc_idx, raw_doc in enumerate(texts):\n",
        "            term_counter = {}\n",
        "            for token in self.__tokenize(raw_doc):\n",
        "                if token in self.vocab_df:\n",
        "                    term = self.vocab_df[token]\n",
        "                    term_idx = term[\"id\"]\n",
        "                    term_idf = term[\"idf\"]\n",
        "                    if term_idx not in term_counter:\n",
        "                        term_counter[term_idx] = term_idf\n",
        "                    else:\n",
        "                        term_counter[term_idx] += term_idf\n",
        "            term_indices.extend(term_counter.keys())\n",
        "            values.extend(term_counter.values())\n",
        "            doc_indices.extend([doc_idx] * len(term_counter))\n",
        "        indices = torch.LongTensor([doc_indices, term_indices], device = DEVICE)\n",
        "        values_tensor = torch.LongTensor(values, device = DEVICE)\n",
        "        tf_idf = torch.sparse.LongTensor(indices, values_tensor, torch.Size([len(texts), len(self.vocab_df)]), device = DEVICE)\n",
        "        return tf_idf"
      ],
      "execution_count": null,
      "outputs": []
    },
    {
      "cell_type": "code",
      "metadata": {
        "id": "6vjXLjS09mBl"
      },
      "source": [
        "%%time\n",
        "vectorizer = TfIdfVectorizer()\n",
        "vectorizer.fit(train_texts)"
      ],
      "execution_count": null,
      "outputs": []
    },
    {
      "cell_type": "code",
      "metadata": {
        "id": "vRekv6IH9mBn"
      },
      "source": [
        "%%time\n",
        "train_data = vectorizer.transform(train_texts)\n",
        "test_data = vectorizer.transform(test_texts)"
      ],
      "execution_count": null,
      "outputs": []
    },
    {
      "cell_type": "markdown",
      "metadata": {
        "id": "DnUfwgHC9mBp"
      },
      "source": [
        "#### Make the dataset iterable"
      ]
    },
    {
      "cell_type": "code",
      "metadata": {
        "id": "eNMhSzkn9mBq"
      },
      "source": [
        "from torch.utils.data import DataLoader, Dataset"
      ],
      "execution_count": null,
      "outputs": []
    },
    {
      "cell_type": "code",
      "metadata": {
        "id": "T_TSShBa9mBt"
      },
      "source": [
        "train_data_loader = DataLoader(train_texts, batch_size=64)\n",
        "test_data_loader = DataLoader(test_texts, batch_size=64)"
      ],
      "execution_count": null,
      "outputs": []
    },
    {
      "cell_type": "code",
      "metadata": {
        "id": "6zbULeoA9mBw"
      },
      "source": [
        "def batch(iterable, n=1):\n",
        "    l = len(iterable)\n",
        "    for ndx in range(0, l, n):\n",
        "        yield iterable[ndx:min(ndx + n, l)]"
      ],
      "execution_count": null,
      "outputs": []
    },
    {
      "cell_type": "markdown",
      "metadata": {
        "id": "ur4Jscji9mB0"
      },
      "source": [
        "#### Build the model"
      ]
    },
    {
      "cell_type": "code",
      "metadata": {
        "id": "0Gl8piS-9mB0"
      },
      "source": [
        "from torch import nn\n",
        "from torch.nn import functional as F\n",
        "\n",
        "class LogisticRegressionModel(nn.Module):\n",
        "\n",
        "    def __init__(self, input_dim, output_dim):\n",
        "        super(LogisticRegressionModel, self).__init__()\n",
        "        self.linear = nn.Linear(input_dim, output_dim)\n",
        "\n",
        "    def forward(self, x):\n",
        "        out = F.softmax(self.linear(x))\n",
        "        return out"
      ],
      "execution_count": null,
      "outputs": []
    },
    {
      "cell_type": "code",
      "metadata": {
        "id": "pahD5UPc9mB2"
      },
      "source": [
        "model = LogisticRegressionModel(len(vectorizer.vocab_df), 2)"
      ],
      "execution_count": null,
      "outputs": []
    },
    {
      "cell_type": "code",
      "metadata": {
        "id": "evPvWZ1o9mB4"
      },
      "source": [
        "criterion = nn.CrossEntropyLoss()"
      ],
      "execution_count": null,
      "outputs": []
    },
    {
      "cell_type": "code",
      "metadata": {
        "id": "C-JkYPNU9mB6"
      },
      "source": [
        "learning_rate = 0.001\n",
        "\n",
        "optimizer = torch.optim.SGD(model.parameters(), lr=learning_rate)"
      ],
      "execution_count": null,
      "outputs": []
    },
    {
      "cell_type": "code",
      "metadata": {
        "id": "Mqrj5jNI9mB8"
      },
      "source": [
        "# Type of parameter object\n",
        "print(model.parameters())\n",
        "\n",
        "# Length of parameters\n",
        "print(len(list(model.parameters())))\n",
        "\n",
        "# FC 1 Parameters\n",
        "print(list(model.parameters())[0].size())\n",
        "\n",
        "# FC 1 Bias Parameters\n",
        "print(list(model.parameters())[1].size())"
      ],
      "execution_count": null,
      "outputs": []
    },
    {
      "cell_type": "code",
      "metadata": {
        "id": "q7PiUFHT9mB-"
      },
      "source": [
        "num_epochs = 5"
      ],
      "execution_count": null,
      "outputs": []
    },
    {
      "cell_type": "code",
      "metadata": {
        "id": "M68takZ39mCC"
      },
      "source": [
        "iteration = 0\n",
        "for epoch in range(num_epochs):\n",
        "    print(f\"Epoch #{epoch}\")\n",
        "    for i, (texts, labels) in enumerate(zip(train_data_loader, batch(train_labels, 64))):\n",
        "        labels = torch.LongTensor(labels)\n",
        "        texts = F.normalize(vectorizer.transform(texts).to(torch.float).to_dense()).requires_grad_()\n",
        "#         print(texts.size(), labels.size(0))\n",
        "\n",
        "        # Clear gradients w.r.t. parameters\n",
        "        optimizer.zero_grad()\n",
        "\n",
        "        # Forward pass to get output/logits\n",
        "        outputs = model(texts)\n",
        "\n",
        "        # Calculate Loss: softmax --> cross entropy loss\n",
        "        loss = criterion(outputs, labels)\n",
        "\n",
        "        # Getting gradients w.r.t. parameters\n",
        "        loss.backward()\n",
        "\n",
        "        # Updating parameters\n",
        "        optimizer.step()\n",
        "\n",
        "        iteration += 1\n",
        "\n",
        "        if iteration % 50 == 0:\n",
        "            # Calculate Accuracy         \n",
        "            correct = 0\n",
        "            total = 0\n",
        "            # Iterate through test dataset\n",
        "            for test_texts, test_labels_batch in zip(test_data_loader, batch(test_labels, 64)):\n",
        "                # Load value to a Torch Variable\n",
        "                test_texts = F.normalize(vectorizer.transform(test_texts).to(torch.float).to_dense())\n",
        "                test_labels_batch = torch.Tensor(test_labels_batch).to(torch.long)\n",
        "                # Forward pass only to get logits/output\n",
        "                outputs = model(test_texts)\n",
        "\n",
        "                # Get predictions from the maximum value\n",
        "                _, predicted = torch.max(outputs.data, 1)\n",
        "\n",
        "                # Total number of labels\n",
        "                total += test_labels_batch.size(0)\n",
        "\n",
        "                # Total correct predictions\n",
        "                correct += (predicted == test_labels_batch).sum()\n",
        "\n",
        "            accuracy = 100 * correct / total\n",
        "\n",
        "            # Print Loss\n",
        "            print('Iteration: {}. Loss: {}. Accuracy: {}'.format(iteration, loss.item(), accuracy))"
      ],
      "execution_count": null,
      "outputs": []
    }
  ]
}